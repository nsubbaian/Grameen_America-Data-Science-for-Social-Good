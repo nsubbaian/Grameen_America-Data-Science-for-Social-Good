{
 "cells": [
  {
   "cell_type": "code",
   "execution_count": 21,
   "metadata": {},
   "outputs": [],
   "source": [
    "# extracts data from American Community Survey API\n",
    "\n",
    "import pandas as pd\n",
    "import requests\n",
    "import json"
   ]
  },
  {
   "cell_type": "code",
   "execution_count": 22,
   "metadata": {},
   "outputs": [],
   "source": [
    "def getQuery(year, apiKey, cats, zips):\n",
    "    # indexes to reorder formatted response so that zip code is the first entry\n",
    "    reorder = [len(categories)] + [i for i in range(len(categories))]\n",
    "\n",
    "    APIquery = \"https://api.census.gov/data/%s/acs/acs5?key=%s&get=%s&for=zip%%20code%%20tabulation%%20area:%s\" % (year, apiKey, cats, zips)\n",
    "\n",
    "    # call the API and collect the response\n",
    "    response = requests.get(APIquery)\n",
    "\n",
    "    # load the response into a JSON, ignoring the first element which is just field labels\n",
    "    formattedResponse = json.loads(response.text)[1:]\n",
    "\n",
    "    # flip the order of the response from [population, zipcode] -> [zipcode, population]\n",
    "    formattedResponse = [[item[i] for i in reorder] for item in formattedResponse]\n",
    "\n",
    "    # store the response in a dataframe\n",
    "    queryData = pd.DataFrame(columns=cols, data=formattedResponse)\n",
    "\n",
    "    # save that dataframe to a CSV spreadsheet\n",
    "    queryData.to_excel('queryData_' + str(y) + '.xlsx', index=False)\n",
    "    \n",
    "    return APIquery"
   ]
  },
  {
   "cell_type": "code",
   "execution_count": 23,
   "metadata": {},
   "outputs": [],
   "source": [
    "categories = [\n",
    "     'B01001_001E', # Total population\n",
    "     'B19013_001E', # Median income\n",
    "     'B25077_001E', # Median home value\n",
    "     'B25064_001E', # Median gross rent ($)\n",
    "     'B15011_001E', # Total population age 25+ years with a bachelor's degree or higher\n",
    "#      'B15001_001E', # Total population educational attainment\n",
    "     'B03002_003E', # Not Hispanic or Latino!!White alone\n",
    "     'B03002_004E', # Not Hispanic or Latino!!Black or African American alone\n",
    "     'B02001_004E', # American Indian and Alaska Native Alone\n",
    "     'B03002_006E', # Not Hispanic or Latino!!Asian alone\n",
    "     'B03002_007E', # Not Hispanic or Latino!!Native Hawaiian and Other Pacific Islander alone\n",
    "     'B03002_008E', # Not Hispanic or Latino!!Some other race alone\n",
    "     'B03002_009E', # Not Hispanic or Latino!!Two or more races\n",
    "     'B03002_012E', # Hispanic or Latino\n",
    "]\n",
    "cols = ['zipcode', 'total_pop', 'median_income', 'median_home_val', 'median_gross_rent', 'edu', 'white',\n",
    "        'black', 'american_indian', 'asian', 'pacific_islander', 'other_race', 'multi_race', 'hispanic_latino']"
   ]
  },
  {
   "cell_type": "code",
   "execution_count": 25,
   "metadata": {},
   "outputs": [],
   "source": [
    "# years for data\n",
    "years = [2014, 2015, 2016, 2017, 2018]\n",
    "\n",
    "# API key for American Community Survey\n",
    "apiKey = \"4d373026d8457a6c1f928ef3500a874f3d3e9f40\"\n",
    "\n",
    "# query string for survey categories\n",
    "cats = ','.join(categories)\n",
    "\n",
    "# zip codes from Grameen data\n",
    "zips = open('zipcodes.txt', 'r').readlines()\n",
    "zips = [z.replace('\\n', '') for z in zips]\n",
    "zips = ','.join(zips)\n",
    "\n",
    "# list to store API queries\n",
    "queries = []\n",
    "\n",
    "# query the API for each year and save the data in a csv file\n",
    "for y in years:\n",
    "    queries.append(getQuery(y, apiKey, cats, zips))"
   ]
  },
  {
   "cell_type": "code",
   "execution_count": 20,
   "metadata": {},
   "outputs": [
    {
     "data": {
      "text/plain": [
       "'https://api.census.gov/data/2014/acs/acs5?key=4d373026d8457a6c1f928ef3500a874f3d3e9f40&get=B01001_001E,B19013_001E,B25077_001E,B25064_001E,B15011_001E,B03002_003E,B03002_004E,B02001_004E,B03002_006E,B03002_007E,B03002_008E,B03002_009E,B03002_012E&for=zip%20code%20tabulation%20area:94578,94544,28212,11232,07087,10467,07093,11368,10453,11373,95132,28215,11224,11209,11220,11219,07201,07206,95127,90006,90032,11370,90023,11590,10031,10040,10466,10458,10452,90063,02128,11421,11207,10025,10457,10456,10460,02149,10023,10472,46254,46224,02150,11435,90011,28227,07114,11418,51510,68134,28206,11378,77080,78735,90201,78610,10310,10302,10314,10032,90059,90029,10027,10037,10304,00976,90044,11432,90016,07032,07047,90047,90255,11433,11365,90222,68127,33018,33014,90040,90242,90262,90062,90007,28213,90015,90019,90037,90057,90004,46226,46222,11377,78704,78744,78617,78745,78640,94703,94621,94601,94603,94605,94577,00952,10035,10468,11367,11801,11428,11429,11423,90065,11420,11369,11372,95116,95128,10301,11226,11218,10454,10451,10463,94801,90003,11237,11385,28216,11356,10473,10475,10029,11230,11419,11422,11413,28210,11210,11211,11215,11204,00962,11379,11208,11412,11212,11239,11581,11206,11691,11374,28209,10455,28205,11357,11355,10474,11415,28110,07022,10033,10459,90014,90221,28134,28214,28027,28025,28273,11235,28278,28217,11301,10303,90031,68108,68105,68107,68005,11221,10701,78653,07302,11228,11234,68131,95122,95131,94579,10065,33167,33127,33170,94609,11436,07505,11101,90022,46227,46143,78741,78753,77093,77088,33013,11358,33130,07086,11223,07105,11214,07675,28269,90280,90033,90002,68147,90043,07524,94806,94110,94608,94538,94560,94536,11417,90706,11510,90270,90018,90026,90017,94606,94619,93611,93703,90027,93726,77022,95111,46203,94014,94080,95117,28079,11104,46142,90240,90650,51503,11414,11106,77035,77081,51501,07055,07501,07508,91344,90038,90305,90042,10704,10039,11416,33125,46201,33142,90247,91205,90061,10462,10128,28262,11229,28226,10306,07513,07644,01902,33128,94803,95133,46241,10305,33010,02119,68154,68117,01905,11217,07104,07107,07109,07003,68110,77082,77074,95119,94086,11249,11360,46214,00921,68104,00913,68112,10009,10002,07205,00772,07208,07090,00915,07202,02127,10469,78748,78742,46260,93727,46218,07306,78612,95121,10026,95124,90034,78729,78758,77072,46237,11354,11225,10465,90020,90005,91331,10705,94546,94541,90804,90813,78724,94124,90001,10461,00987,00926,68164,10312,95118,10034,00927,78660,90660,90250,90723,91702,10030,95050,00918,94602,02151,02130,01901,46229,07304,00907,02121,78752,94545,11213,01904,94547,33145,33135,78702,02124,95110,02126,11103,07070,07029,07017,02125,46236,94015,11238,68137,07083,94089,94804,91754,07603,11105,11366,90220,07305,68106,68130,00922,68144,94580,02131,11222,02120,68157,11201,95008,91204,90039,11102,11692,28105,28211,28277,68123,46221,95126,95125,95148,91706,91733,91732,07503,11434,90058,90241,78616,78754,77039,07002,07071,90012,28208,00957,00963,00956,46235,90744,68022,11693,12214,10550,46219,11345,90640,00725,00727,95054,11233,46208,90028,78652,78723,78721,78747,78666,68111,11203,77031,10038,90670,68114,11205,95112,77015,77009,94805,00738,00924,00979,00983,07424,33172,07052,02136,07108,68116,00982,00985,77036,77099,11096,07010,46225,07407,07601,11003'"
      ]
     },
     "execution_count": 20,
     "metadata": {},
     "output_type": "execute_result"
    }
   ],
   "source": [
    "queries[0]"
   ]
  }
 ],
 "metadata": {
  "kernelspec": {
   "display_name": "Python 3",
   "language": "python",
   "name": "python3"
  },
  "language_info": {
   "codemirror_mode": {
    "name": "ipython",
    "version": 3
   },
   "file_extension": ".py",
   "mimetype": "text/x-python",
   "name": "python",
   "nbconvert_exporter": "python",
   "pygments_lexer": "ipython3",
   "version": "3.7.3"
  }
 },
 "nbformat": 4,
 "nbformat_minor": 4
}
