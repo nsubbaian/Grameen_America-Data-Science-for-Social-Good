{
 "cells": [
  {
   "cell_type": "code",
   "execution_count": 2,
   "metadata": {},
   "outputs": [
    {
     "data": {
      "text/plain": [
       "Renderers configuration\n",
       "-----------------------\n",
       "    Default renderer: 'browser'\n",
       "    Available renderers:\n",
       "        ['plotly_mimetype', 'jupyterlab', 'nteract', 'vscode',\n",
       "         'notebook', 'notebook_connected', 'kaggle', 'azure', 'colab',\n",
       "         'cocalc', 'databricks', 'json', 'png', 'jpeg', 'jpg', 'svg',\n",
       "         'pdf', 'browser', 'firefox', 'chrome', 'chromium', 'iframe',\n",
       "         'iframe_connected', 'sphinx_gallery']"
      ]
     },
     "execution_count": 2,
     "metadata": {},
     "output_type": "execute_result"
    }
   ],
   "source": [
    "import pandas as pd\n",
    "import numpy as np\n",
    "# import seaborn as sns\n",
    "import matplotlib.pyplot as plt\n",
    "import plotly.express as px\n",
    "import plotly.graph_objects as go\n",
    "from plotly.offline import download_plotlyjs, init_notebook_mode, plot, iplot\n",
    "import plotly.io as pio\n",
    "from ipywidgets import widgets\n",
    "pio.renderers.default = 'browser'\n",
    "pio.renderers\n",
    "\n"
   ]
  },
  {
   "cell_type": "code",
   "execution_count": 3,
   "metadata": {},
   "outputs": [],
   "source": [
    "# data = pd.read_excel('uniqueID_ALL.xlsx')\n",
    "data = pd.read_parquet('uniqueID_ALL_df')\n",
    "# replace NaN with blank strings\n",
    "data = data.fillna('')\n",
    "# data.head()"
   ]
  },
  {
   "cell_type": "code",
   "execution_count": 4,
   "metadata": {},
   "outputs": [],
   "source": [
    "# clusterdata = data.loc[:, ['Account STate', 'Loan Amount', 'usage', 'hours_worked_G']]\n",
    "# clusterdata.head()\n",
    "# state, loan_amount, loan_usage, hours_g, (busines_loc_g but has NA - already answered) business_loc, swipes_week, month_income_g\n",
    "\n",
    "# renaming columns    \n",
    "dc = np.array(data.columns)\n",
    "dc[0] = 'branch'\n",
    "dc[8] = 'loan_amount'\n",
    "dc[9] = 'state'\n",
    "dc[19] = 'housing' # retention?\n",
    "dc[26] = 'checking'\n",
    "dc[27] = 'checking_bal'\n",
    "dc[28] = 'savings'\n",
    "dc[29] = 'savings_bal'\n",
    "dc[35] = 'business_cat' # retention?\n",
    "dc[36] = 'loan_usage' # retention?\n",
    "dc[39] = 'hours_grameen' # retention?\n",
    "dc[24] = 'business_loc'\n",
    "dc[40] = 'month_income_g'\n",
    "dc[50] = 'swipes_week' # retention?\n",
    "dc[51] = 'phone'\n",
    "\n",
    "data.columns = dc\n",
    "# data.head()"
   ]
  },
  {
   "cell_type": "code",
   "execution_count": 5,
   "metadata": {},
   "outputs": [
    {
     "data": {
      "text/plain": [
       "'Rent an Apartment or House '"
      ]
     },
     "execution_count": 5,
     "metadata": {},
     "output_type": "execute_result"
    }
   ],
   "source": [
    "data.loc[data['housing'] == '', 'housing'] = 'Blank'\n",
    "data.loc[data['housing'] != 'Blank', 'housing'] = data.loc[data['housing'] != 'Blank', 'housing'].str.split('/', n=1, expand=True)[0]\n",
    "# c=0\n",
    "# for i in data.index[data['housing'] != 'Blank']:\n",
    "#     print(c,end='\\r')\n",
    "#     c+=1\n",
    "#     data.loc[i, 'housing'] = data.loc[i, 'housing'].split('/')[0]\n",
    "\n",
    "data['housing'][7]"
   ]
  },
  {
   "cell_type": "code",
   "execution_count": 15,
   "metadata": {},
   "outputs": [],
   "source": [
    "# data_plot = data_ret\n",
    "# cols_plot = ['branch', 'state', 'month_income_g']\n",
    "# cols_plot = ['branch', 'state']\n",
    "cols_plot = ['branch', 'month_income_g']\n",
    "data_plot = data[cols_plot]\n",
    "\n",
    "dimensions = [dict(values=data_plot[label], label=label) for label in data_plot.columns[:len(data_plot.columns)]]\n",
    "\n",
    "# Build colorscale\n",
    "color = np.zeros(len(data_plot), dtype='uint8')\n",
    "colorscale = [[0, 'blue'], [1, 'firebrick']]\n",
    "\n",
    "# Build figure as FigureWidget\n",
    "fig = go.FigureWidget(\n",
    "    data=[go.Parcats(\n",
    "        dimensions=dimensions,\n",
    "        line={'shape': 'hspline'})\n",
    "    ])\n",
    "fig.update_layout(showlegend=True)\n",
    "fig.show()"
   ]
  },
  {
   "cell_type": "code",
   "execution_count": 9,
   "metadata": {},
   "outputs": [
    {
     "data": {
      "text/plain": [
       "'Plots/Sankey_branch-state.html'"
      ]
     },
     "execution_count": 9,
     "metadata": {},
     "output_type": "execute_result"
    }
   ],
   "source": [
    "# save figure as html widget\n",
    "plot(fig, filename = 'Plots/Sankey_' + '-'.join(cols_plot) + '.html', auto_open=False)"
   ]
  },
  {
   "cell_type": "code",
   "execution_count": 6,
   "metadata": {},
   "outputs": [],
   "source": [
    "cols_plot = ['branch', 'housing']\n",
    "\n",
    "fig = px.histogram(data, x=cols_plot[0], color=cols_plot[1])\n",
    "fig.show()\n",
    "\n"
   ]
  },
  {
   "cell_type": "code",
   "execution_count": 13,
   "metadata": {},
   "outputs": [
    {
     "data": {
      "text/plain": [
       "'Plots/Hist_branch-month_income_g.html'"
      ]
     },
     "execution_count": 13,
     "metadata": {},
     "output_type": "execute_result"
    }
   ],
   "source": [
    "# Save the plot with title corresponding to the categories plotted\n",
    "plot(fig, filename = 'Plots/HistSimple_' + '-'.join(cols_plot) + '.html', auto_open=False)"
   ]
  },
  {
   "cell_type": "code",
   "execution_count": 16,
   "metadata": {},
   "outputs": [],
   "source": [
    "# Change the second element in the list to relate branch to another categorical question\n",
    "cols_plot = ['state', 'phone']\n",
    "\n",
    "if len(data[data[cols_plot[1]] == '']) > 0:\n",
    "    data_plot = data[data[cols_plot[1]] != '']\n",
    "else:\n",
    "    data_plot = data.copy()\n",
    "\n",
    "fig = go.Figure()\n",
    "for b in data_plot[cols_plot[0]].unique():\n",
    "    fig.add_trace(go.Histogram(\n",
    "        x=data_plot[data_plot[cols_plot[0]] == b][cols_plot[1]],\n",
    "        name=b, # name used in legend and hover labels\n",
    "        opacity=0.75,\n",
    "        histnorm='percent'\n",
    "    ))\n",
    "\n",
    "fig.update_layout(\n",
    "    title_text= cols_plot[1] + ' by ' + cols_plot[0], # title of plot\n",
    "    bargap=0.2, # gap between bars of adjacent location coordinates\n",
    "    bargroupgap=0.1, # gap between bars of the same location coordinates\n",
    "    yaxis_title_text='Percentage' # yaxis label\n",
    ")\n",
    "\n",
    "fig.show()\n",
    "# plot(fig, filename = 'Plots/HistNormalized_' + '-'.join(cols_plot) + '.html', auto_open=False)"
   ]
  },
  {
   "cell_type": "code",
   "execution_count": 80,
   "metadata": {},
   "outputs": [
    {
     "data": {
      "text/plain": [
       "'Plots/HistNormalized_branch-state.html'"
      ]
     },
     "execution_count": 80,
     "metadata": {},
     "output_type": "execute_result"
    }
   ],
   "source": [
    "# Save the plot with title corresponding to the categories plotted\n",
    "plot(fig, filename = 'Plots/HistNormalized_' + '-'.join(cols_plot) + '.html', auto_open=False)"
   ]
  },
  {
   "cell_type": "code",
   "execution_count": null,
   "metadata": {},
   "outputs": [],
   "source": []
  },
  {
   "cell_type": "code",
   "execution_count": null,
   "metadata": {},
   "outputs": [],
   "source": [
    "# Overall Histogram with toggle for categories\n",
    "# Change the second element in the list to relate branch to another categorical question\n",
    "cols_plot = ['state', 'phone']\n",
    "\n",
    "if len(data[data[cols_plot[1]] == '']) > 0:\n",
    "    data_plot = data[data[cols_plot[1]] != '']\n",
    "else:\n",
    "    data_plot = data.copy()\n",
    "\n",
    "    \n",
    "fig = go.FigureWidget(\n",
    "    data=[go.Histogram(\n",
    "        x=data_plot[data_plot[cols_plot[0]] == b][cols_plot[1]],\n",
    "        name=b, # name used in legend and hover labels\n",
    "        opacity=0.75,\n",
    "        histnorm='percent'\n",
    "    )])\n",
    "\n",
    "fig.update_layout(\n",
    "    title_text= cols_plot[1] + ' by ' + cols_plot[0], # title of plot\n",
    "    bargap=0.2, # gap between bars of adjacent location coordinates\n",
    "    bargroupgap=0.1, # gap between bars of the same location coordinates\n",
    "    yaxis_title_text='Percentage' # yaxis label\n",
    ")\n",
    "\n",
    "color_toggle = widgets.ToggleButtons(\n",
    "    options=['None', 'Red', 'Blue'],\n",
    "    index=1, description='Brush Color:', disabled=False)\n",
    "\n",
    "fig.show()\n",
    "# plot(fig, filename = 'Plots/HistNormalized_' + '-'.join(cols_plot) + '.html', auto_open=False)"
   ]
  }
 ],
 "metadata": {
  "kernelspec": {
   "display_name": "Python 3",
   "language": "python",
   "name": "python3"
  },
  "language_info": {
   "codemirror_mode": {
    "name": "ipython",
    "version": 3
   },
   "file_extension": ".py",
   "mimetype": "text/x-python",
   "name": "python",
   "nbconvert_exporter": "python",
   "pygments_lexer": "ipython3",
   "version": "3.7.3"
  }
 },
 "nbformat": 4,
 "nbformat_minor": 4
}
