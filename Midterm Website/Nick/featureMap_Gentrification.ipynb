{
 "cells": [
  {
   "cell_type": "code",
   "execution_count": 3,
   "metadata": {},
   "outputs": [],
   "source": [
    "# run feature importance using census data from 2015-2018\n",
    "# assume long term trend from 2015-2018 is representative of the actual trend between each two years\n",
    "# **reading from all_data_retention_df (Parquet file with ZIP codes as text)\n",
    "# there are 132 missing zip codes from the census data, including Puerto Rico zip codes: removed all loan entries iith missing census data\n",
    "\n",
    "import pandas as pd\n",
    "import numpy as np\n",
    "from sklearn.model_selection import train_test_split\n",
    "from matplotlib import pyplot as plt\n",
    "from sklearn.linear_model import LassoCV\n",
    "from sklearn.ensemble import RandomForestRegressor\n",
    "from sklearn.svm import SVR\n",
    "import xgboost as xgb\n",
    "from seaborn import heatmap\n",
    "from sklearn.preprocessing import OneHotEncoder\n",
    "from sklearn import preprocessing\n",
    "import re\n",
    "\n",
    "import plotly.express as px\n",
    "import plotly.graph_objects as go\n",
    "from plotly.offline import download_plotlyjs, init_notebook_mode, plot, iplot\n",
    "import plotly.io as pio\n",
    "\n",
    "from sklearn.ensemble import RandomForestClassifier\n",
    "\n",
    "pio.renderers.default = 'browser'"
   ]
  },
  {
   "cell_type": "code",
   "execution_count": 4,
   "metadata": {},
   "outputs": [],
   "source": [
    "df = pd.read_parquet('all_data_retention_df')\n",
    "\n",
    "#Drop Rows in which the Account IDs don't match\n",
    "ID_noMatch_indexes = df[df[\"Match?\"]!=1.0].index\n",
    "df.drop(ID_noMatch_indexes, inplace = True)\n",
    "\n",
    "# remove blank rows\n",
    "df.dropna(axis='index',subset=['Branch'], inplace = True)\n",
    "\n",
    "years = [2015, 2018]\n",
    "\n",
    "# exclude race columns\n",
    "cols_race = ['white', 'black', 'american_indian', 'asian', 'pacific_islander', 'other_race', 'multi_race', 'hispanic_latino']\n",
    "\n",
    "dfs = [pd.DataFrame()]*len(years)\n",
    "\n",
    "for i in range(len(dfs)):\n",
    "    dfs[i] = pd.read_excel('queryData_' + str(years[i]) + '.xlsx', dtype = {'zipcode' : 'object'})\n",
    "    dfs[i].drop(cols_race, axis = \"columns\", inplace = True)\n",
    "    \n",
    "# dfs[0].head()"
   ]
  },
  {
   "cell_type": "code",
   "execution_count": 5,
   "metadata": {},
   "outputs": [
    {
     "data": {
      "text/html": [
       "<div>\n",
       "<style scoped>\n",
       "    .dataframe tbody tr th:only-of-type {\n",
       "        vertical-align: middle;\n",
       "    }\n",
       "\n",
       "    .dataframe tbody tr th {\n",
       "        vertical-align: top;\n",
       "    }\n",
       "\n",
       "    .dataframe thead th {\n",
       "        text-align: right;\n",
       "    }\n",
       "</style>\n",
       "<table border=\"1\" class=\"dataframe\">\n",
       "  <thead>\n",
       "    <tr style=\"text-align: right;\">\n",
       "      <th></th>\n",
       "      <th>zipcode</th>\n",
       "      <th>total_pop</th>\n",
       "      <th>median_income</th>\n",
       "      <th>median_home_val</th>\n",
       "      <th>median_gross_rent</th>\n",
       "      <th>edu</th>\n",
       "    </tr>\n",
       "  </thead>\n",
       "  <tbody>\n",
       "    <tr>\n",
       "      <th>0</th>\n",
       "      <td>46001</td>\n",
       "      <td>-439.0</td>\n",
       "      <td>7381.0</td>\n",
       "      <td>2400.0</td>\n",
       "      <td>91.0</td>\n",
       "      <td>34.0</td>\n",
       "    </tr>\n",
       "    <tr>\n",
       "      <th>1</th>\n",
       "      <td>46012</td>\n",
       "      <td>239.0</td>\n",
       "      <td>175.0</td>\n",
       "      <td>-1300.0</td>\n",
       "      <td>72.0</td>\n",
       "      <td>168.0</td>\n",
       "    </tr>\n",
       "    <tr>\n",
       "      <th>2</th>\n",
       "      <td>46032</td>\n",
       "      <td>4284.0</td>\n",
       "      <td>8692.0</td>\n",
       "      <td>26100.0</td>\n",
       "      <td>91.0</td>\n",
       "      <td>2674.0</td>\n",
       "    </tr>\n",
       "    <tr>\n",
       "      <th>3</th>\n",
       "      <td>46038</td>\n",
       "      <td>1893.0</td>\n",
       "      <td>9355.0</td>\n",
       "      <td>21600.0</td>\n",
       "      <td>131.0</td>\n",
       "      <td>1562.0</td>\n",
       "    </tr>\n",
       "    <tr>\n",
       "      <th>4</th>\n",
       "      <td>46060</td>\n",
       "      <td>2650.0</td>\n",
       "      <td>12285.0</td>\n",
       "      <td>18500.0</td>\n",
       "      <td>128.0</td>\n",
       "      <td>318.0</td>\n",
       "    </tr>\n",
       "  </tbody>\n",
       "</table>\n",
       "</div>"
      ],
      "text/plain": [
       "  zipcode  total_pop  median_income  median_home_val  median_gross_rent  \\\n",
       "0   46001     -439.0         7381.0           2400.0               91.0   \n",
       "1   46012      239.0          175.0          -1300.0               72.0   \n",
       "2   46032     4284.0         8692.0          26100.0               91.0   \n",
       "3   46038     1893.0         9355.0          21600.0              131.0   \n",
       "4   46060     2650.0        12285.0          18500.0              128.0   \n",
       "\n",
       "      edu  \n",
       "0    34.0  \n",
       "1   168.0  \n",
       "2  2674.0  \n",
       "3  1562.0  \n",
       "4   318.0  "
      ]
     },
     "execution_count": 5,
     "metadata": {},
     "output_type": "execute_result"
    }
   ],
   "source": [
    "# insert columns for census data, excluding zip code\n",
    "for col in dfs[0].columns:\n",
    "    if col != 'zipcode':\n",
    "        df.insert(len(df.columns)-3,col + '_change', 0.1)\n",
    "\n",
    "# calculate change in census data between the two years\n",
    "# store the change in census data in Grameen DataFrame\n",
    "df_change = dfs[0].copy()\n",
    "for z in df_change['zipcode'].unique():\n",
    "    dif = dfs[1].loc[dfs[1]['zipcode'] == z, 'total_pop':'edu'].to_numpy() - dfs[0].loc[dfs[0]['zipcode'] == z, 'total_pop':'edu'].to_numpy()\n",
    "    df_change.loc[df_change['zipcode']==z, 'total_pop':'edu'] = dif\n",
    "    df.loc[df['Zip Code (Member)']==z, 'total_pop_change':'edu_change'] = dif\n",
    "\n",
    "# store zip codes w/ NaNs in an array\n",
    "zips_nan = df.loc[(df['total_pop_change'].isna()) | (df['median_income_change'].isna()) | (df['median_home_val_change'].isna()) | (df['median_gross_rent_change'].isna()) | (df['edu_change'].isna()), 'Zip Code (Member)'].unique().tolist()\n",
    "\n",
    "# remove any additional rows/zip codes that had missing census data\n",
    "df.dropna(axis='index',subset=['total_pop_change', 'median_income_change', 'median_home_val_change', 'median_gross_rent_change', 'edu_change'], inplace = True)\n",
    "\n",
    "# store zip codes that are missing census data, then remove them from dataset\n",
    "zips_missing = df.loc[df['total_pop_change']==0.1, 'Zip Code (Member)'].unique().tolist()\n",
    "\n",
    "# only keep rows with valid census data and reset index\n",
    "df = df[df['total_pop_change'] != 0.1].reset_index(drop = True)\n",
    "\n",
    "# remove any other rows w/ invalid data\n",
    "df = df[(df['total_pop_change']<600000000) & (df['median_income_change']<600000000) & (df['median_home_val_change']<600000000) & (df['median_gross_rent_change']<600000000) & (df['edu_change']<600000000)].reset_index(drop = True)\n",
    "df_change.head()"
   ]
  },
  {
   "cell_type": "code",
   "execution_count": 6,
   "metadata": {},
   "outputs": [],
   "source": [
    "# df.to_parquet(fname='gentrification_df', compression=None)"
   ]
  },
  {
   "cell_type": "code",
   "execution_count": 7,
   "metadata": {},
   "outputs": [],
   "source": [
    "# SEED = 0\n",
    "\n",
    "# Divide X and ys into wanted columns\n",
    "col_y = ['retention_1', 'retention_2', 'retention_3']\n",
    "col_x = ['total_pop_change', 'median_income_change', 'median_home_val_change', 'median_gross_rent_change', 'edu_change']\n",
    "y = df[col_y]\n",
    "X = df[col_x]\n",
    "\n",
    "# Split train and test set\n",
    "X_train, X_test, y_train, y_test = train_test_split(X, y, test_size = 0.3, random_state = SEED)"
   ]
  },
  {
   "cell_type": "code",
   "execution_count": 13,
   "metadata": {},
   "outputs": [
    {
     "name": "stdout",
     "output_type": "stream",
     "text": [
      "RF\n"
     ]
    },
    {
     "name": "stderr",
     "output_type": "stream",
     "text": [
      "C:\\Users\\User\\Anaconda3\\lib\\site-packages\\sklearn\\ensemble\\forest.py:245: FutureWarning:\n",
      "\n",
      "The default value of n_estimators will change from 10 in version 0.20 to 100 in 0.22.\n",
      "\n"
     ]
    },
    {
     "name": "stdout",
     "output_type": "stream",
     "text": [
      "retention_1 Model Trained\n",
      "retention_1 Model Scored\n",
      "retention_1 Results Stored\n"
     ]
    },
    {
     "name": "stderr",
     "output_type": "stream",
     "text": [
      "C:\\Users\\User\\Anaconda3\\lib\\site-packages\\sklearn\\ensemble\\forest.py:245: FutureWarning:\n",
      "\n",
      "The default value of n_estimators will change from 10 in version 0.20 to 100 in 0.22.\n",
      "\n"
     ]
    },
    {
     "name": "stdout",
     "output_type": "stream",
     "text": [
      "retention_2 Model Trained\n",
      "retention_2 Model Scored\n",
      "retention_2 Results Stored\n"
     ]
    },
    {
     "name": "stderr",
     "output_type": "stream",
     "text": [
      "C:\\Users\\User\\Anaconda3\\lib\\site-packages\\sklearn\\ensemble\\forest.py:245: FutureWarning:\n",
      "\n",
      "The default value of n_estimators will change from 10 in version 0.20 to 100 in 0.22.\n",
      "\n"
     ]
    },
    {
     "name": "stdout",
     "output_type": "stream",
     "text": [
      "retention_3 Model Trained\n",
      "retention_3 Model Scored\n",
      "retention_3 Results Stored\n",
      "XGB\n",
      "retention_1 Model Trained\n",
      "retention_1 Model Scored\n",
      "retention_1 Results Stored\n",
      "retention_2 Model Trained\n",
      "retention_2 Model Scored\n",
      "retention_2 Results Stored\n",
      "retention_3 Model Trained\n",
      "retention_3 Model Scored\n",
      "retention_3 Results Stored\n",
      "               model         0         1\n",
      "retention_1       RF  0.870407  0.866825\n",
      "retention_2       RF  0.717936  0.718336\n",
      "retention_3       RF  0.540959  0.534228\n",
      "retention_1  XGBoost  0.015089 -0.008904\n",
      "retention_2  XGBoost  0.131384  0.116217\n",
      "retention_3  XGBoost  0.141657  0.129663\n"
     ]
    },
    {
     "name": "stderr",
     "output_type": "stream",
     "text": [
      "C:\\Users\\User\\Anaconda3\\lib\\site-packages\\pandas\\core\\frame.py:6692: FutureWarning:\n",
      "\n",
      "Sorting because non-concatenation axis is not aligned. A future version\n",
      "of pandas will change to not sort by default.\n",
      "\n",
      "To accept the future behavior, pass 'sort=False'.\n",
      "\n",
      "To retain the current behavior and silence the warning, pass 'sort=True'.\n",
      "\n",
      "\n"
     ]
    }
   ],
   "source": [
    "SEED = 10\n",
    "\n",
    "# LASSO Regression\n",
    "lasso_model = dict()\n",
    "lasso_results = dict()\n",
    "\n",
    "# SVM Regression\n",
    "svm_model = dict()\n",
    "svm_results = dict()\n",
    "\n",
    "# Random Forest Regression\n",
    "rf_model = dict()\n",
    "rf_results = dict()\n",
    "\n",
    "# XGBOOST Regression\n",
    "xgb_model = dict()\n",
    "xgb_results = dict()\n",
    "\n",
    "models = [\"RF\", \"XGB\"]\n",
    "# models = [\"LASSO\",\"SVM\", \"RF\", \"XGB\"]\n",
    "# SVM and LASSO taking a while to work....\n",
    "\n",
    "\n",
    "for model in models:\n",
    "    print(model)\n",
    "    for target in y.columns:\n",
    "        # create model\n",
    "        if model == \"LASSO\":\n",
    "            reg = LassoCV(cv=3, random_state = SEED)\n",
    "        elif model == \"SVM\":\n",
    "            reg = SVR()\n",
    "        elif model == \"RF\":\n",
    "#             reg = RandomForestRegressor(random_state = SEED)\n",
    "            reg = RandomForestClassifier(random_state = SEED)\n",
    "        elif model == \"XGB\":\n",
    "#             reg = xgb.XGBRegressor(objective ='reg:squarederror', scoring='r2', random_state = SEED)\n",
    "            reg = xgb.XGBRegressor(objective ='reg:squarederror', scoring='r2', random_state = SEED)\n",
    "\n",
    "        # train model\n",
    "        reg.fit(X_train, y_train[target])\n",
    "        print(target, \"Model Trained\")\n",
    "\n",
    "        # score the model\n",
    "        train_score = reg.score(X_train, y_train[target])\n",
    "        test_score = reg.score(X_test, y_test[target])\n",
    "        print(target, \"Model Scored\")\n",
    "        \n",
    "        # store results\n",
    "        if model == \"LASSO\":\n",
    "            lasso_model[target] = reg\n",
    "            lasso_results[target] = (train_score, test_score)\n",
    "        elif model == \"SVM\":\n",
    "            svm_model[target] = reg\n",
    "            svm_results[target] = (train_score, test_score)\n",
    "        elif model == \"RF\":\n",
    "            rf_model[target] = reg\n",
    "            rf_results[target] = (train_score, test_score)\n",
    "        elif model == \"XGB\":\n",
    "            xgb_model[target] = reg\n",
    "            xgb_results[target] = (train_score, test_score)\n",
    "        print(target, \"Results Stored\")\n",
    "\n",
    "# gather all results into one data frame\n",
    "lasso = pd.DataFrame(lasso_results).T\n",
    "svm = pd.DataFrame(svm_results).T\n",
    "rf = pd.DataFrame(rf_results).T\n",
    "xgboost = pd.DataFrame(xgb_results).T\n",
    "\n",
    "lasso[\"model\"] = \"LASSO\"\n",
    "svm[\"model\"] = \"SVM\"\n",
    "rf[\"model\"] = \"RF\"\n",
    "xgboost[\"model\"] = \"XGBoost\"\n",
    "result = lasso.append([svm,rf,xgboost])\n",
    "\n",
    "print(result)"
   ]
  },
  {
   "cell_type": "code",
   "execution_count": 14,
   "metadata": {},
   "outputs": [
    {
     "data": {
      "text/plain": [
       "Text(0.5, 1, 'Random Forest Feature Importance')"
      ]
     },
     "execution_count": 14,
     "metadata": {},
     "output_type": "execute_result"
    },
    {
     "data": {
      "image/png": "[encoded data removed]",
      "text/plain": [
       "<Figure size 1440x432 with 2 Axes>"
      ]
     },
     "metadata": {
      "needs_background": "light"
     },
     "output_type": "display_data"
    },
    {
     "data": {
      "image/png": "[encoded data removed]",
      "text/plain": [
       "<Figure size 1440x432 with 2 Axes>"
      ]
     },
     "metadata": {
      "needs_background": "light"
     },
     "output_type": "display_data"
    }
   ],
   "source": [
    "feat_imp = [model.feature_importances_ for model in xgb_model.values()]\n",
    "feat_imp = pd.DataFrame(feat_imp, columns = X.columns)\n",
    "feat_imp.index = y.columns\n",
    "\n",
    "plt.figure(figsize=(20,6))\n",
    "heatmap(feat_imp.T, cmap=\"YlGnBu\")\n",
    "plt.title('XGBoost Feature Importance')\n",
    "# plt.savefig(\"featimp_gent_XGB_CLASSIFIER.png\")\n",
    "\n",
    "feat_imp = [model.feature_importances_ for model in rf_model.values()]\n",
    "feat_imp = pd.DataFrame(feat_imp, columns = X.columns)\n",
    "feat_imp.index = y.columns\n",
    "\n",
    "plt.figure(figsize=(20,6))\n",
    "heatmap(feat_imp.T, cmap=\"YlGnBu\")\n",
    "plt.title('Random Forest Feature Importance')\n",
    "\n",
    "# plt.savefig(\"featimp_gent_RF_CLASSIFIER.png\")"
   ]
  },
  {
   "cell_type": "code",
   "execution_count": 15,
   "metadata": {},
   "outputs": [
    {
     "name": "stdout",
     "output_type": "stream",
     "text": [
      "               model         0         1\n",
      "retention_1       RF  0.014149 -0.010716\n",
      "retention_2       RF  0.132002  0.115398\n",
      "retention_3       RF  0.141862  0.128775\n",
      "retention_1  XGBoost  0.015089 -0.008904\n",
      "retention_2  XGBoost  0.131384  0.116217\n",
      "retention_3  XGBoost  0.141657  0.129663\n",
      "0.1418616324462365\n",
      "0.12966349361415963\n"
     ]
    }
   ],
   "source": [
    "print(result)\n",
    "print(max(result[0]))\n",
    "print(max(result[1]))\n",
    "# result.to_csv('model_resuls.csv', index = False)"
   ]
  },
  {
   "cell_type": "code",
   "execution_count": null,
   "metadata": {},
   "outputs": [],
   "source": [
    "test_score"
   ]
  },
  {
   "cell_type": "code",
   "execution_count": 42,
   "metadata": {},
   "outputs": [],
   "source": [
    "# plot changes in census data over time for a given zip code\n",
    "\n",
    "fig = go.Figure()\n",
    "\n",
    "for col in dfs[0].columns:\n",
    "    inc = []\n",
    "    for d in dfs:\n",
    "        inc.append(int(d.loc[d['zipcode'] == 10467, col]))\n",
    "    fig.add_trace(go.Scatter(x=years, y=inc, mode='lines', name=col))\n",
    "\n",
    "fig.show()\n"
   ]
  },
  {
   "cell_type": "markdown",
   "metadata": {},
   "source": [
    "df_2014"
   ]
  }
 ],
 "metadata": {
  "kernelspec": {
   "display_name": "Python 3",
   "language": "python",
   "name": "python3"
  },
  "language_info": {
   "codemirror_mode": {
    "name": "ipython",
    "version": 3
   },
   "file_extension": ".py",
   "mimetype": "text/x-python",
   "name": "python",
   "nbconvert_exporter": "python",
   "pygments_lexer": "ipython3",
   "version": "3.7.3"
  }
 },
 "nbformat": 4,
 "nbformat_minor": 4
}
